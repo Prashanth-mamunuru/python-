{
 "cells": [
  {
   "cell_type": "code",
   "execution_count": 1,
   "metadata": {},
   "outputs": [],
   "source": [
    "import itertools, random"
   ]
  },
  {
   "cell_type": "code",
   "execution_count": 4,
   "metadata": {},
   "outputs": [
    {
     "name": "stdout",
     "output_type": "stream",
     "text": [
      "you got\n",
      "12 of diamonds\n",
      "7 of diamonds\n",
      "9 of clubs\n",
      "4 of spades\n",
      "13 of clubs\n"
     ]
    }
   ],
   "source": [
    "deck = list(itertools.product(range(1,14), ['spades','hearts','diamonds','clubs']))\n",
    "random.shuffle(deck)\n",
    "print(\"you got\")\n",
    "for i in range(5):\n",
    "    print(deck[i][0],\"of\", deck[i][1])"
   ]
  },
  {
   "cell_type": "code",
   "execution_count": null,
   "metadata": {},
   "outputs": [],
   "source": []
  }
 ],
 "metadata": {
  "kernelspec": {
   "display_name": "Python 3",
   "language": "python",
   "name": "python3"
  },
  "language_info": {
   "codemirror_mode": {
    "name": "ipython",
    "version": 3
   },
   "file_extension": ".py",
   "mimetype": "text/x-python",
   "name": "python",
   "nbconvert_exporter": "python",
   "pygments_lexer": "ipython3",
   "version": "3.7.1"
  }
 },
 "nbformat": 4,
 "nbformat_minor": 2
}
